{
 "cells": [
  {
   "cell_type": "markdown",
   "metadata": {},
   "source": [
    "# CPSC 420 - HW1"
   ]
  },
  {
   "cell_type": "markdown",
   "metadata": {},
   "source": [
    "## Q1."
   ]
  },
  {
   "cell_type": "markdown",
   "metadata": {},
   "source": [
    "### a."
   ]
  },
  {
   "cell_type": "markdown",
   "metadata": {},
   "source": [
    "Multiplying the first row of $\\textbf{R}$ with $\\textbf{x}$ gives us $R_{1,1} \\cdot x_1 = b_1$. So $x_1 = \\frac{b_1}{R_{1,1}}$. We can find $x_i$ similarly, using the $i^{th}$ row. $\\sum_{j=1}^i R_{i,j} \\cdot x_j = b_i$. Rearranging gives us $x_i = \\frac{b_i - \\sum_{j=1}^{i-1} R_{j,i} \\cdot x_j}{R_{i,i}}$."
   ]
  },
  {
   "cell_type": "markdown",
   "metadata": {},
   "source": [
    "### b."
   ]
  },
  {
   "cell_type": "markdown",
   "metadata": {
    "collapsed": true
   },
   "source": [
    "Multiplying the last row of $\\textbf{R}$ with $\\textbf{x}$ gives us $R_{n,n} \\cdot x_n = b_n$. So $x_n = \\frac{b_n}{R_{n,n}}$. We can find $x_i$ similarly, using the $i^{th}$ row. $\\sum_{j=i}^n R_{i,j} \\cdot x_j = b_i$. Rearranging gives us $x_i = \\frac{b_i - \\sum_{j=i+1}^n R_{j,i} \\cdot x_j}{R_{i,i}}$."
   ]
  }
 ],
 "metadata": {
  "kernelspec": {
   "display_name": "Julia 1.3.1",
   "language": "julia",
   "name": "julia-1.3"
  },
  "language_info": {
   "file_extension": ".jl",
   "mimetype": "application/julia",
   "name": "julia",
   "version": "1.3.1"
  }
 },
 "nbformat": 4,
 "nbformat_minor": 2
}
